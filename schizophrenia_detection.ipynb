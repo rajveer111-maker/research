{
 "cells": [
  {
   "cell_type": "code",
   "execution_count": 1,
   "id": "aca1084d",
   "metadata": {},
   "outputs": [
    {
     "name": "stdout",
     "output_type": "stream",
     "text": [
      "WARNING:tensorflow:Please fix your imports. Module tensorflow.python.training.tracking.base has been moved to tensorflow.python.trackable.base. The old module will be deleted in version 2.11.\n",
      "WARNING:tensorflow:Please fix your imports. Module tensorflow.python.training.checkpoint_management has been moved to tensorflow.python.checkpoint.checkpoint_management. The old module will be deleted in version 2.9.\n",
      "WARNING:tensorflow:Please fix your imports. Module tensorflow.python.training.tracking.resource has been moved to tensorflow.python.trackable.resource. The old module will be deleted in version 2.11.\n",
      "WARNING:tensorflow:Please fix your imports. Module tensorflow.python.training.tracking.util has been moved to tensorflow.python.checkpoint.checkpoint. The old module will be deleted in version 2.11.\n",
      "WARNING:tensorflow:Please fix your imports. Module tensorflow.python.training.tracking.base_delegate has been moved to tensorflow.python.trackable.base_delegate. The old module will be deleted in version 2.11.\n",
      "WARNING:tensorflow:Please fix your imports. Module tensorflow.python.training.tracking.graph_view has been moved to tensorflow.python.checkpoint.graph_view. The old module will be deleted in version 2.11.\n",
      "WARNING:tensorflow:Please fix your imports. Module tensorflow.python.training.tracking.python_state has been moved to tensorflow.python.trackable.python_state. The old module will be deleted in version 2.11.\n",
      "WARNING:tensorflow:Please fix your imports. Module tensorflow.python.training.saving.functional_saver has been moved to tensorflow.python.checkpoint.functional_saver. The old module will be deleted in version 2.11.\n",
      "WARNING:tensorflow:Please fix your imports. Module tensorflow.python.training.saving.checkpoint_options has been moved to tensorflow.python.checkpoint.checkpoint_options. The old module will be deleted in version 2.11.\n"
     ]
    }
   ],
   "source": [
    "from tensorflow.keras.optimizers import Adam\n",
    "from tensorflow.keras.applications.mobilenet_v2 import preprocess_input\n",
    "from tensorflow.keras.preprocessing.image import img_to_array\n",
    "from tensorflow.keras.preprocessing.image import load_img\n",
    "from tensorflow.keras.preprocessing.image import ImageDataGenerator\n",
    "from tensorflow.keras.applications import MobileNetV2\n",
    "\n",
    "\n",
    "\n",
    "from tensorflow.keras.utils import to_categorical\n",
    "from tensorflow.keras.layers import Input\n",
    "from tensorflow.keras.layers import Dropout\n",
    "from tensorflow.keras.layers import Flatten\n",
    "from tensorflow.keras.layers import AveragePooling2D\n",
    "from tensorflow.keras.layers import Dense\n",
    "from tensorflow.keras.models import Model\n",
    "\n",
    "\n",
    "from sklearn.preprocessing import LabelBinarizer\n",
    "from sklearn.model_selection import train_test_split\n",
    "from sklearn.metrics import classification_report\n",
    "\n",
    "\n",
    "from imutils import paths\n",
    "import numpy as np\n",
    "import matplotlib.pyplot as plt\n",
    "import os"
   ]
  },
  {
   "cell_type": "code",
   "execution_count": 2,
   "id": "be1773fe",
   "metadata": {},
   "outputs": [
    {
     "name": "stdout",
     "output_type": "stream",
     "text": [
      "done\n"
     ]
    }
   ],
   "source": [
    "from zipfile import ZipFile\n",
    "file_name = \"my_data.zip\"\n",
    "\n",
    "with ZipFile(file_name,'r') as zip:\n",
    "  zip.extractall()\n",
    "  print('done')"
   ]
  },
  {
   "cell_type": "code",
   "execution_count": 3,
   "id": "9aa4703c",
   "metadata": {},
   "outputs": [],
   "source": [
    "INIT_LR=1e-4\n",
    "EPOCHS=30\n",
    "BS=32\n",
    "DIRECTORY=\"my_data/\""
   ]
  },
  {
   "cell_type": "code",
   "execution_count": 4,
   "id": "7176f3be",
   "metadata": {},
   "outputs": [],
   "source": [
    "#from PIL import ImageFile, Image\n",
    "#ImageFile.LOAD_TRUNCATED_IMAGES = False"
   ]
  },
  {
   "cell_type": "code",
   "execution_count": 5,
   "id": "3f79b512",
   "metadata": {
    "scrolled": true
   },
   "outputs": [
    {
     "name": "stdout",
     "output_type": "stream",
     "text": [
      "['cat', 'cat', 'cat', 'cat', 'cat', 'cat', 'cat', 'cat', 'cat', 'cat']\n"
     ]
    }
   ],
   "source": [
    "data=[]\n",
    "labels=[]\n",
    "\n",
    "for category in os.listdir(DIRECTORY):\n",
    "    path= os.path.join(DIRECTORY,category)\n",
    "    for img in os.listdir(path):\n",
    "        img_path =os.path.join(path,img)\n",
    "        image=load_img(img_path,target_size=(224,224))\n",
    "        image=img_to_array(image)\n",
    "        image=preprocess_input(image)\n",
    "        \n",
    "        data.append(image)\n",
    "        labels.append(category)\n",
    "print(labels[:10])       \n"
   ]
  },
  {
   "cell_type": "code",
   "execution_count": 6,
   "id": "0e947093",
   "metadata": {},
   "outputs": [],
   "source": [
    "#perform one-hot encoding\n",
    "\n",
    "lb=LabelBinarizer()\n",
    "labels=lb.fit_transform(labels)\n",
    "labels=to_categorical(labels)\n",
    "\n",
    "data=np.array(data,dtype=\"float32\")\n",
    "labels = np.array(labels)"
   ]
  },
  {
   "cell_type": "code",
   "execution_count": 7,
   "id": "93cfa778",
   "metadata": {},
   "outputs": [],
   "source": [
    "(trainX,testX,trainY,testY)=train_test_split(data,labels,test_size=0.20,stratify=labels,random_state=42)"
   ]
  },
  {
   "cell_type": "code",
   "execution_count": 8,
   "id": "117a194d",
   "metadata": {},
   "outputs": [],
   "source": [
    "# construct the training image generator for data augementation\n",
    "\n",
    "aug=ImageDataGenerator(rotation_range=20,\n",
    "                       zoom_range=0.15,\n",
    "                       width_shift_range=0.2,\n",
    "                       shear_range=0.15,\n",
    "                       horizontal_flip=True,\n",
    "                       fill_mode=\"nearest\")"
   ]
  },
  {
   "cell_type": "code",
   "execution_count": 9,
   "id": "36e487a7",
   "metadata": {},
   "outputs": [
    {
     "name": "stdout",
     "output_type": "stream",
     "text": [
      "WARNING:tensorflow:`input_shape` is undefined or non-square, or `rows` is not in [96, 128, 160, 192, 224]. Weights for input shape (224, 224) will be loaded as the default.\n"
     ]
    }
   ],
   "source": [
    "#load the model\n",
    "\n",
    "baseModel=MobileNetV2(weights=\"imagenet\",include_top=False,\n",
    "                     input_tensor=Input(shape=(224,224,3)))"
   ]
  },
  {
   "cell_type": "code",
   "execution_count": 10,
   "id": "0260cf53",
   "metadata": {
    "scrolled": true
   },
   "outputs": [],
   "source": [
    "#construct the head of the model that will be placed on the top of the best model\n",
    "headModel=baseModel.output\n",
    "headModel=AveragePooling2D(pool_size=(7,7))(headModel)\n",
    "headModel=Flatten(name=\"flatten\")(headModel)\n",
    "headModel=Dense(128,activation=\"relu\")(headModel)\n",
    "headModel=Dropout(0.5)(headModel)\n",
    "headModel=Dense(2,activation=\"softmax\")(headModel)"
   ]
  },
  {
   "cell_type": "code",
   "execution_count": 11,
   "id": "3b1cccbf",
   "metadata": {},
   "outputs": [],
   "source": [
    "#place the head FC model on the top of the base model\n",
    "model = Model(inputs=baseModel.input,outputs=headModel)"
   ]
  },
  {
   "cell_type": "code",
   "execution_count": 12,
   "id": "cf162dcd",
   "metadata": {},
   "outputs": [],
   "source": [
    "#loop over all layers in the base model\n",
    "\n",
    "for layer in baseModel.layers:\n",
    "    layer.trainable =False"
   ]
  },
  {
   "cell_type": "code",
   "execution_count": 13,
   "id": "b96f98bd",
   "metadata": {},
   "outputs": [
    {
     "name": "stdout",
     "output_type": "stream",
     "text": [
      "[INFO] compiling model...\n"
     ]
    },
    {
     "name": "stderr",
     "output_type": "stream",
     "text": [
      "F:\\anaconda\\lib\\site-packages\\keras\\optimizers\\optimizer_v2\\adam.py:113: UserWarning: The `lr` argument is deprecated, use `learning_rate` instead.\n",
      "  super().__init__(name, **kwargs)\n"
     ]
    }
   ],
   "source": [
    "#complie our model\n",
    "print(\"[INFO] compiling model...\")\n",
    "opt = Adam(lr=INIT_LR,decay=INIT_LR/EPOCHS)\n",
    "model.compile(loss=\"binary_crossentropy\",optimizer=opt,\n",
    "             metrics=['accuracy'])"
   ]
  },
  {
   "cell_type": "code",
   "execution_count": 14,
   "id": "33f9ea91",
   "metadata": {},
   "outputs": [
    {
     "name": "stdout",
     "output_type": "stream",
     "text": [
      "[INFO] training head...\n",
      "Epoch 1/30\n",
      "52/52 [==============================] - 44s 759ms/step - loss: 0.4991 - accuracy: 0.8072 - val_loss: 0.2358 - val_accuracy: 0.9595\n",
      "Epoch 2/30\n",
      "52/52 [==============================] - 38s 725ms/step - loss: 0.2123 - accuracy: 0.9580 - val_loss: 0.1422 - val_accuracy: 0.9619\n",
      "Epoch 3/30\n",
      "52/52 [==============================] - 35s 668ms/step - loss: 0.1469 - accuracy: 0.9641 - val_loss: 0.0985 - val_accuracy: 0.9714\n",
      "Epoch 4/30\n",
      "52/52 [==============================] - 35s 677ms/step - loss: 0.1247 - accuracy: 0.9672 - val_loss: 0.0857 - val_accuracy: 0.9690\n",
      "Epoch 5/30\n",
      "52/52 [==============================] - 34s 656ms/step - loss: 0.1068 - accuracy: 0.9647 - val_loss: 0.0707 - val_accuracy: 0.9786\n",
      "Epoch 6/30\n",
      "52/52 [==============================] - 35s 667ms/step - loss: 0.0906 - accuracy: 0.9793 - val_loss: 0.0679 - val_accuracy: 0.9762\n",
      "Epoch 7/30\n",
      "52/52 [==============================] - 35s 680ms/step - loss: 0.0787 - accuracy: 0.9787 - val_loss: 0.0724 - val_accuracy: 0.9690\n",
      "Epoch 8/30\n",
      "52/52 [==============================] - 36s 681ms/step - loss: 0.0885 - accuracy: 0.9720 - val_loss: 0.0578 - val_accuracy: 0.9762\n",
      "Epoch 9/30\n",
      "52/52 [==============================] - 36s 695ms/step - loss: 0.0760 - accuracy: 0.9751 - val_loss: 0.0625 - val_accuracy: 0.9714\n",
      "Epoch 10/30\n",
      "52/52 [==============================] - 35s 669ms/step - loss: 0.0622 - accuracy: 0.9836 - val_loss: 0.0592 - val_accuracy: 0.9738\n",
      "Epoch 11/30\n",
      "52/52 [==============================] - 35s 665ms/step - loss: 0.0610 - accuracy: 0.9836 - val_loss: 0.0649 - val_accuracy: 0.9714\n",
      "Epoch 12/30\n",
      "52/52 [==============================] - 34s 661ms/step - loss: 0.0627 - accuracy: 0.9830 - val_loss: 0.0555 - val_accuracy: 0.9738\n",
      "Epoch 13/30\n",
      "52/52 [==============================] - 34s 653ms/step - loss: 0.0583 - accuracy: 0.9818 - val_loss: 0.0506 - val_accuracy: 0.9762\n",
      "Epoch 14/30\n",
      "52/52 [==============================] - 35s 667ms/step - loss: 0.0517 - accuracy: 0.9842 - val_loss: 0.0469 - val_accuracy: 0.9762\n",
      "Epoch 15/30\n",
      "52/52 [==============================] - 36s 693ms/step - loss: 0.0572 - accuracy: 0.9818 - val_loss: 0.0446 - val_accuracy: 0.9786\n",
      "Epoch 16/30\n",
      "52/52 [==============================] - 35s 680ms/step - loss: 0.0503 - accuracy: 0.9830 - val_loss: 0.0536 - val_accuracy: 0.9714\n",
      "Epoch 17/30\n",
      "52/52 [==============================] - 34s 659ms/step - loss: 0.0537 - accuracy: 0.9824 - val_loss: 0.0580 - val_accuracy: 0.9714\n",
      "Epoch 18/30\n",
      "52/52 [==============================] - 35s 666ms/step - loss: 0.0545 - accuracy: 0.9848 - val_loss: 0.0523 - val_accuracy: 0.9738\n",
      "Epoch 19/30\n",
      "52/52 [==============================] - 35s 663ms/step - loss: 0.0538 - accuracy: 0.9830 - val_loss: 0.0412 - val_accuracy: 0.9833\n",
      "Epoch 20/30\n",
      "52/52 [==============================] - 35s 666ms/step - loss: 0.0421 - accuracy: 0.9836 - val_loss: 0.0630 - val_accuracy: 0.9714\n",
      "Epoch 21/30\n",
      "52/52 [==============================] - 36s 700ms/step - loss: 0.0477 - accuracy: 0.9818 - val_loss: 0.0657 - val_accuracy: 0.9714\n",
      "Epoch 22/30\n",
      "52/52 [==============================] - 36s 693ms/step - loss: 0.0467 - accuracy: 0.9848 - val_loss: 0.0487 - val_accuracy: 0.9762\n",
      "Epoch 23/30\n",
      "52/52 [==============================] - 37s 709ms/step - loss: 0.0454 - accuracy: 0.9860 - val_loss: 0.0506 - val_accuracy: 0.9762\n",
      "Epoch 24/30\n",
      "52/52 [==============================] - 36s 685ms/step - loss: 0.0401 - accuracy: 0.9866 - val_loss: 0.0522 - val_accuracy: 0.9738\n",
      "Epoch 25/30\n",
      "52/52 [==============================] - 36s 685ms/step - loss: 0.0327 - accuracy: 0.9927 - val_loss: 0.0501 - val_accuracy: 0.9738\n",
      "Epoch 26/30\n",
      "52/52 [==============================] - 35s 666ms/step - loss: 0.0333 - accuracy: 0.9897 - val_loss: 0.0427 - val_accuracy: 0.9833\n",
      "Epoch 27/30\n",
      "52/52 [==============================] - 37s 705ms/step - loss: 0.0401 - accuracy: 0.9866 - val_loss: 0.0478 - val_accuracy: 0.9810\n",
      "Epoch 28/30\n",
      "52/52 [==============================] - 35s 671ms/step - loss: 0.0313 - accuracy: 0.9891 - val_loss: 0.0446 - val_accuracy: 0.9810\n",
      "Epoch 29/30\n",
      "52/52 [==============================] - 35s 664ms/step - loss: 0.0329 - accuracy: 0.9872 - val_loss: 0.0400 - val_accuracy: 0.9833\n",
      "Epoch 30/30\n",
      "52/52 [==============================] - 35s 670ms/step - loss: 0.0306 - accuracy: 0.9939 - val_loss: 0.0469 - val_accuracy: 0.9810\n"
     ]
    }
   ],
   "source": [
    "# trsin the heard of network\n",
    "\n",
    "print(\"[INFO] training head...\")\n",
    "\n",
    "h=model.fit(aug.flow(trainX,trainY,batch_size=BS),\n",
    "            steps_per_epoch=len(trainX)//BS,\n",
    "            validation_data=(testX,testY),\n",
    "            validation_steps=len(testX)//BS,\n",
    "            epochs=EPOCHS)"
   ]
  }
 ],
 "metadata": {
  "kernelspec": {
   "display_name": "Python 3 (ipykernel)",
   "language": "python",
   "name": "python3"
  },
  "language_info": {
   "codemirror_mode": {
    "name": "ipython",
    "version": 3
   },
   "file_extension": ".py",
   "mimetype": "text/x-python",
   "name": "python",
   "nbconvert_exporter": "python",
   "pygments_lexer": "ipython3",
   "version": "3.9.12"
  }
 },
 "nbformat": 4,
 "nbformat_minor": 5
}
